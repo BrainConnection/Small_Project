{
  "nbformat": 4,
  "nbformat_minor": 0,
  "metadata": {
    "colab": {
      "provenance": [],
      "authorship_tag": "ABX9TyPHo12RvSCfUo6ErM/MMak9",
      "include_colab_link": true
    },
    "kernelspec": {
      "name": "python3",
      "display_name": "Python 3"
    },
    "language_info": {
      "name": "python"
    }
  },
  "cells": [
    {
      "cell_type": "markdown",
      "metadata": {
        "id": "view-in-github",
        "colab_type": "text"
      },
      "source": [
        "<a href=\"https://colab.research.google.com/github/BrainConnection/Schroedinger-Practice/blob/main/Slinky%20Project.ipynb\" target=\"_parent\"><img src=\"https://colab.research.google.com/assets/colab-badge.svg\" alt=\"Open In Colab\"/></a>"
      ]
    },
    {
      "cell_type": "markdown",
      "source": [
        "# Environment Setting"
      ],
      "metadata": {
        "id": "goyB-KVAPLOC"
      }
    },
    {
      "cell_type": "code",
      "execution_count": 1,
      "metadata": {
        "id": "fRLeRGCsO4WD",
        "outputId": "50eb6748-f597-48c2-ac96-a4d933d9568d",
        "colab": {
          "base_uri": "https://localhost:8080/"
        }
      },
      "outputs": [
        {
          "output_type": "stream",
          "name": "stdout",
          "text": [
            "Requirement already satisfied: numpy in /usr/local/lib/python3.10/dist-packages (1.23.5)\n"
          ]
        }
      ],
      "source": [
        "!pip install numpy"
      ]
    },
    {
      "cell_type": "code",
      "source": [
        "import numpy as np"
      ],
      "metadata": {
        "id": "qjbxt51ZPWjR"
      },
      "execution_count": 2,
      "outputs": []
    },
    {
      "cell_type": "markdown",
      "source": [
        "# 1. Point Mass Modeling"
      ],
      "metadata": {
        "id": "ucz9dNO4ZPuU"
      }
    },
    {
      "cell_type": "code",
      "source": [
        "# Constant Initialization\n",
        "\n",
        "N = 3                     # # of point mass\n",
        "omega = 2 * np.pi * 10      # w**2 := k/m, Hz\n",
        "g = 9.8                     # m/s**2"
      ],
      "metadata": {
        "id": "nBs5TwacAtOU"
      },
      "execution_count": 13,
      "outputs": []
    },
    {
      "cell_type": "code",
      "source": [
        "# Position initialization\n",
        "\n",
        "y_0 = []"
      ],
      "metadata": {
        "id": "aOhsvnHtCDx3"
      },
      "execution_count": null,
      "outputs": []
    },
    {
      "cell_type": "code",
      "source": [
        "# Matrix A Construction & Diagonalization\n",
        "\n",
        "lst = []\n",
        "\n",
        "for i in range(N+1):\n",
        "\n",
        "  if i==0:\n",
        "    sub_lst = []\n",
        "    for j in range(N+1):\n",
        "\n",
        "      if j==0:\n",
        "        sub_lst.append(-1)\n",
        "\n",
        "      elif j==1:\n",
        "        sub_lst.append(+1)\n",
        "\n",
        "      else:\n",
        "        sub_lst.append(0)\n",
        "\n",
        "  elif i==N:\n",
        "    sub_lst = []\n",
        "    for j in range(N+1):\n",
        "\n",
        "      if j==N-1:\n",
        "        sub_lst.append(+1)\n",
        "\n",
        "      elif j==N:\n",
        "        sub_lst.append(-1)\n",
        "\n",
        "      else:\n",
        "        sub_lst.append(0)\n",
        "\n",
        "  else:\n",
        "    sub_lst = []\n",
        "    for j in range(N+1):\n",
        "\n",
        "      if j==i-1:\n",
        "        sub_lst.append(+1)\n",
        "\n",
        "      elif j==i:\n",
        "        sub_lst.append(-2)\n",
        "\n",
        "      elif j==i+1:\n",
        "        sub_lst.append(+1)\n",
        "\n",
        "      else:\n",
        "        sub_lst.append(0)\n",
        "\n",
        "  lst.append(sub_lst)\n",
        "\n",
        "A = np.array(lst)"
      ],
      "metadata": {
        "id": "ba_-Br3DZUZr"
      },
      "execution_count": 14,
      "outputs": []
    },
    {
      "cell_type": "code",
      "source": [
        "A"
      ],
      "metadata": {
        "id": "MMGTbHjSSffm",
        "outputId": "0509318c-c1c5-44af-e9d7-28f0afcf0045",
        "colab": {
          "base_uri": "https://localhost:8080/"
        }
      },
      "execution_count": 15,
      "outputs": [
        {
          "output_type": "execute_result",
          "data": {
            "text/plain": [
              "array([[-1,  1,  0,  0],\n",
              "       [ 1, -2,  1,  0],\n",
              "       [ 0,  1, -2,  1],\n",
              "       [ 0,  0,  1, -1]])"
            ]
          },
          "metadata": {},
          "execution_count": 15
        }
      ]
    },
    {
      "cell_type": "code",
      "source": [
        "D, P = np.linalg.eig(A)\n",
        "P_dag = np.linalg.inv(P)"
      ],
      "metadata": {
        "id": "INKDGJs2ZT6K"
      },
      "execution_count": 21,
      "outputs": []
    },
    {
      "cell_type": "code",
      "source": [
        "D"
      ],
      "metadata": {
        "id": "05q1agcvTX5A",
        "outputId": "dba32de8-04a3-4637-883a-3b44ec1d32e0",
        "colab": {
          "base_uri": "https://localhost:8080/"
        }
      },
      "execution_count": 22,
      "outputs": [
        {
          "output_type": "execute_result",
          "data": {
            "text/plain": [
              "array([-3.41421356e+00, -2.00000000e+00, -9.23055176e-17, -5.85786438e-01])"
            ]
          },
          "metadata": {},
          "execution_count": 22
        }
      ]
    },
    {
      "cell_type": "code",
      "source": [
        "P"
      ],
      "metadata": {
        "id": "ilgeJPPFT0IH",
        "outputId": "5f9d5c66-fb84-46bf-b87c-f1b19887a188",
        "colab": {
          "base_uri": "https://localhost:8080/"
        }
      },
      "execution_count": 23,
      "outputs": [
        {
          "output_type": "execute_result",
          "data": {
            "text/plain": [
              "array([[-0.27059805, -0.5       , -0.5       , -0.65328148],\n",
              "       [ 0.65328148,  0.5       , -0.5       , -0.27059805],\n",
              "       [-0.65328148,  0.5       , -0.5       ,  0.27059805],\n",
              "       [ 0.27059805, -0.5       , -0.5       ,  0.65328148]])"
            ]
          },
          "metadata": {},
          "execution_count": 23
        }
      ]
    },
    {
      "cell_type": "code",
      "source": [
        "P_dag"
      ],
      "metadata": {
        "id": "2VyH9e4RUOq1",
        "outputId": "0c02e6b6-6620-4ce8-c5a0-01d4aed537ca",
        "colab": {
          "base_uri": "https://localhost:8080/"
        }
      },
      "execution_count": 24,
      "outputs": [
        {
          "output_type": "execute_result",
          "data": {
            "text/plain": [
              "array([[-0.27059805,  0.65328148, -0.65328148,  0.27059805],\n",
              "       [-0.5       ,  0.5       ,  0.5       , -0.5       ],\n",
              "       [-0.5       , -0.5       , -0.5       , -0.5       ],\n",
              "       [-0.65328148, -0.27059805,  0.27059805,  0.65328148]])"
            ]
          },
          "metadata": {},
          "execution_count": 24
        }
      ]
    }
  ]
}