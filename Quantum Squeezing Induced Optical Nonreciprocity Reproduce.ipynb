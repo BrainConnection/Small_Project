{
  "nbformat": 4,
  "nbformat_minor": 0,
  "metadata": {
    "colab": {
      "provenance": [],
      "authorship_tag": "ABX9TyOeqSU6ezeufT4EpyYbkgJF",
      "include_colab_link": true
    },
    "kernelspec": {
      "name": "python3",
      "display_name": "Python 3"
    },
    "language_info": {
      "name": "python"
    }
  },
  "cells": [
    {
      "cell_type": "markdown",
      "metadata": {
        "id": "view-in-github",
        "colab_type": "text"
      },
      "source": [
        "<a href=\"https://colab.research.google.com/github/BrainConnection/Small_Project/blob/main/Quantum%20Squeezing%20Induced%20Optical%20Nonreciprocity%20Reproduce.ipynb\" target=\"_parent\"><img src=\"https://colab.research.google.com/assets/colab-badge.svg\" alt=\"Open In Colab\"/></a>"
      ]
    },
    {
      "cell_type": "markdown",
      "source": [
        "#Environment Setting\n",
        "\n"
      ],
      "metadata": {
        "id": "kYEX1dUQZyBB"
      }
    },
    {
      "cell_type": "code",
      "source": [
        "!pip install qutip\n",
        "!pip install numpy\n",
        "!pip install matplotlib\n",
        "!pip install scipy"
      ],
      "metadata": {
        "colab": {
          "base_uri": "https://localhost:8080/"
        },
        "id": "t5_2f5ckZxC6",
        "outputId": "6657acc7-556f-4468-8fdc-3885e4648306"
      },
      "execution_count": 1,
      "outputs": [
        {
          "output_type": "stream",
          "name": "stdout",
          "text": [
            "Collecting qutip\n",
            "  Downloading qutip-5.0.3.post1-cp310-cp310-manylinux_2_17_x86_64.manylinux2014_x86_64.whl (28.0 MB)\n",
            "\u001b[2K     \u001b[90m━━━━━━━━━━━━━━━━━━━━━━━━━━━━━━━━━━━━━━━━\u001b[0m \u001b[32m28.0/28.0 MB\u001b[0m \u001b[31m14.0 MB/s\u001b[0m eta \u001b[36m0:00:00\u001b[0m\n",
            "\u001b[?25hRequirement already satisfied: numpy>=1.22 in /usr/local/lib/python3.10/dist-packages (from qutip) (1.25.2)\n",
            "Requirement already satisfied: scipy>=1.9 in /usr/local/lib/python3.10/dist-packages (from qutip) (1.11.4)\n",
            "Requirement already satisfied: packaging in /usr/local/lib/python3.10/dist-packages (from qutip) (24.1)\n",
            "Installing collected packages: qutip\n",
            "Successfully installed qutip-5.0.3.post1\n",
            "Requirement already satisfied: numpy in /usr/local/lib/python3.10/dist-packages (1.25.2)\n",
            "Requirement already satisfied: matplotlib in /usr/local/lib/python3.10/dist-packages (3.7.1)\n",
            "Requirement already satisfied: contourpy>=1.0.1 in /usr/local/lib/python3.10/dist-packages (from matplotlib) (1.2.1)\n",
            "Requirement already satisfied: cycler>=0.10 in /usr/local/lib/python3.10/dist-packages (from matplotlib) (0.12.1)\n",
            "Requirement already satisfied: fonttools>=4.22.0 in /usr/local/lib/python3.10/dist-packages (from matplotlib) (4.53.0)\n",
            "Requirement already satisfied: kiwisolver>=1.0.1 in /usr/local/lib/python3.10/dist-packages (from matplotlib) (1.4.5)\n",
            "Requirement already satisfied: numpy>=1.20 in /usr/local/lib/python3.10/dist-packages (from matplotlib) (1.25.2)\n",
            "Requirement already satisfied: packaging>=20.0 in /usr/local/lib/python3.10/dist-packages (from matplotlib) (24.1)\n",
            "Requirement already satisfied: pillow>=6.2.0 in /usr/local/lib/python3.10/dist-packages (from matplotlib) (9.4.0)\n",
            "Requirement already satisfied: pyparsing>=2.3.1 in /usr/local/lib/python3.10/dist-packages (from matplotlib) (3.1.2)\n",
            "Requirement already satisfied: python-dateutil>=2.7 in /usr/local/lib/python3.10/dist-packages (from matplotlib) (2.8.2)\n",
            "Requirement already satisfied: six>=1.5 in /usr/local/lib/python3.10/dist-packages (from python-dateutil>=2.7->matplotlib) (1.16.0)\n",
            "Requirement already satisfied: scipy in /usr/local/lib/python3.10/dist-packages (1.11.4)\n",
            "Requirement already satisfied: numpy<1.28.0,>=1.21.6 in /usr/local/lib/python3.10/dist-packages (from scipy) (1.25.2)\n"
          ]
        }
      ]
    },
    {
      "cell_type": "code",
      "source": [
        "from qutip import *\n",
        "import numpy as np\n",
        "import matplotlib.pyplot as plt\n",
        "import scipy.interpolate"
      ],
      "metadata": {
        "id": "FLCdREEEZw9Y"
      },
      "execution_count": 2,
      "outputs": []
    },
    {
      "cell_type": "markdown",
      "source": [
        "# Hamiltonian (FW Case)"
      ],
      "metadata": {
        "id": "y0FkvkwZqrmi"
      }
    },
    {
      "cell_type": "markdown",
      "source": [
        "Hamiltonian in the frame rotating at $ \\frac{\\omega_p}{2}$\n",
        "\n",
        "$ H = H_A + H_B + H_C $\n",
        "\n",
        "$ H_A = \\Delta_p^a a^\\dagger a + i \\sqrt{2 \\kappa_{ex1}} (a_{in} a^\\dagger e^{-i \\Delta_{in}t} - a_{in}^\\dagger a e^{i \\Delta_{in}t}) $\n",
        "\n",
        "$ H_B = \\Delta_p^b b^\\dagger b + \\frac{\\Omega_p}{2} (e^{-i\\theta_p} b^{\\dagger 2} + e^{i\\theta_p} b^2 )   $\n",
        "\n",
        "$ H_J = J_0 (a^\\dagger b + a b^\\dagger)  $\n",
        "\n",
        "when $ \\Delta_p^a = \\omega_a - \\frac{\\omega_p}{2} $ , $ \\Delta_p^b = \\omega_b - \\frac{\\omega_p}{2} , \\Delta_{in} = \\omega_{in} - \\frac{\\omega_p}{2} $\n",
        "\n",
        "Pump field $ \\Omega_p $ is created by driving a Second Harmonic Mode of Ring B with an external field, which means coupling between Second Harmonic Mode and external field.  \n",
        "\n",
        "Pump field is only effective in phase - matching condition, which is $ \\omega_p - 2 \\omega_b = 0  $. Therefore, $ \\Omega_p $ is only effective in Forward Signal and negligible in Backword Signal. Phase - matching condition is key of isolator."
      ],
      "metadata": {
        "id": "faKqT9bELDrE"
      }
    },
    {
      "cell_type": "markdown",
      "source": [
        "Hamiltonian (FW case)\n",
        "\n",
        "$ \\frac{\\Omega_p}{2} (e^{-i\\theta_p} b^{\\dagger 2} + e^{i\\theta_p} b^2 ) $ term means quantum sqeezing on Ring B.\n",
        "\n",
        "Applying Bogoliubov squeezing transformation $ b_s = \\cosh(r_p) b + e^{-i\\theta_p} \\sinh(r_p) b^\\dagger $ with the squeezing parameter $r_p = \\frac{1}{4} \\ln(\\frac{1+\\frac{\\Omega_p}{\\Delta_p^b}}{1-\\frac{\\Omega_p}{\\Delta_p^b}}) $,\n",
        "\n",
        "We can transform the Hamiltonian $H_{fw}$ to the squeezing picture and the Hamiltonian in the frame rotating at freuquency of $\\Delta_{in}$ becomes\n",
        "\n",
        "$ H_{fw} = \\Delta_a a^\\dagger a + i \\sqrt{2 \\kappa_{ex1}} (a_{in} a^\\dagger - a_{in}^\\dagger a ) + \\Delta_b^s b_s^\\dagger b_s + J_s (a^\\dagger b_s + a b_s^\\dagger)  $\n",
        "\n",
        "where $ \\Delta_a = \\omega_a - \\omega_{in}$, $ \\Delta_b^s = \\Delta_p^{bs} - \\omega_{in}$, $ \\Delta_p^{bs} = \\Delta_p^b \\sqrt{1-(\\frac{\\Omega_p}{\\Delta_p^b})^2} $"
      ],
      "metadata": {
        "id": "iDJOTcWsaI72"
      }
    },
    {
      "cell_type": "code",
      "source": [
        "# Parameter normalized by"
      ],
      "metadata": {
        "id": "ZJc60_3gLDJ6"
      },
      "execution_count": null,
      "outputs": []
    }
  ]
}