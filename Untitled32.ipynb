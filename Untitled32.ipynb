{
  "nbformat": 4,
  "nbformat_minor": 0,
  "metadata": {
    "colab": {
      "provenance": [],
      "authorship_tag": "ABX9TyPDFvUIAdpWUxZWzQZRXp8E",
      "include_colab_link": true
    },
    "kernelspec": {
      "name": "python3",
      "display_name": "Python 3"
    },
    "language_info": {
      "name": "python"
    }
  },
  "cells": [
    {
      "cell_type": "markdown",
      "metadata": {
        "id": "view-in-github",
        "colab_type": "text"
      },
      "source": [
        "<a href=\"https://colab.research.google.com/github/BrainConnection/Small_Project/blob/main/Untitled32.ipynb\" target=\"_parent\"><img src=\"https://colab.research.google.com/assets/colab-badge.svg\" alt=\"Open In Colab\"/></a>"
      ]
    },
    {
      "cell_type": "markdown",
      "source": [
        "#Environment Setting\n",
        "\n"
      ],
      "metadata": {
        "id": "kYEX1dUQZyBB"
      }
    },
    {
      "cell_type": "code",
      "source": [
        "!pip install qutip\n",
        "!pip install numpy\n",
        "!pip install matplotlib\n",
        "!pip install scipy"
      ],
      "metadata": {
        "colab": {
          "base_uri": "https://localhost:8080/"
        },
        "id": "t5_2f5ckZxC6",
        "outputId": "267a8202-11bd-42a9-e98b-67c11f657490"
      },
      "execution_count": 1,
      "outputs": [
        {
          "output_type": "stream",
          "name": "stdout",
          "text": [
            "Collecting qutip\n",
            "  Downloading qutip-5.0.2-cp310-cp310-manylinux_2_17_x86_64.manylinux2014_x86_64.whl (27.9 MB)\n",
            "\u001b[2K     \u001b[90m━━━━━━━━━━━━━━━━━━━━━━━━━━━━━━━━━━━━━━━━\u001b[0m \u001b[32m27.9/27.9 MB\u001b[0m \u001b[31m13.4 MB/s\u001b[0m eta \u001b[36m0:00:00\u001b[0m\n",
            "\u001b[?25hRequirement already satisfied: numpy<2.0.0,>=1.22 in /usr/local/lib/python3.10/dist-packages (from qutip) (1.25.2)\n",
            "Requirement already satisfied: scipy>=1.8 in /usr/local/lib/python3.10/dist-packages (from qutip) (1.11.4)\n",
            "Requirement already satisfied: packaging in /usr/local/lib/python3.10/dist-packages (from qutip) (24.1)\n",
            "Installing collected packages: qutip\n",
            "Successfully installed qutip-5.0.2\n",
            "Requirement already satisfied: numpy in /usr/local/lib/python3.10/dist-packages (1.25.2)\n",
            "Requirement already satisfied: matplotlib in /usr/local/lib/python3.10/dist-packages (3.7.1)\n",
            "Requirement already satisfied: contourpy>=1.0.1 in /usr/local/lib/python3.10/dist-packages (from matplotlib) (1.2.1)\n",
            "Requirement already satisfied: cycler>=0.10 in /usr/local/lib/python3.10/dist-packages (from matplotlib) (0.12.1)\n",
            "Requirement already satisfied: fonttools>=4.22.0 in /usr/local/lib/python3.10/dist-packages (from matplotlib) (4.53.0)\n",
            "Requirement already satisfied: kiwisolver>=1.0.1 in /usr/local/lib/python3.10/dist-packages (from matplotlib) (1.4.5)\n",
            "Requirement already satisfied: numpy>=1.20 in /usr/local/lib/python3.10/dist-packages (from matplotlib) (1.25.2)\n",
            "Requirement already satisfied: packaging>=20.0 in /usr/local/lib/python3.10/dist-packages (from matplotlib) (24.1)\n",
            "Requirement already satisfied: pillow>=6.2.0 in /usr/local/lib/python3.10/dist-packages (from matplotlib) (9.4.0)\n",
            "Requirement already satisfied: pyparsing>=2.3.1 in /usr/local/lib/python3.10/dist-packages (from matplotlib) (3.1.2)\n",
            "Requirement already satisfied: python-dateutil>=2.7 in /usr/local/lib/python3.10/dist-packages (from matplotlib) (2.8.2)\n",
            "Requirement already satisfied: six>=1.5 in /usr/local/lib/python3.10/dist-packages (from python-dateutil>=2.7->matplotlib) (1.16.0)\n",
            "Requirement already satisfied: scipy in /usr/local/lib/python3.10/dist-packages (1.11.4)\n",
            "Requirement already satisfied: numpy<1.28.0,>=1.21.6 in /usr/local/lib/python3.10/dist-packages (from scipy) (1.25.2)\n"
          ]
        }
      ]
    },
    {
      "cell_type": "code",
      "source": [
        "from qutip import *\n",
        "import numpy as np\n",
        "import matplotlib.pyplot as plt\n",
        "import scipy.interpolate"
      ],
      "metadata": {
        "id": "FLCdREEEZw9Y"
      },
      "execution_count": 2,
      "outputs": []
    },
    {
      "cell_type": "markdown",
      "source": [
        "# 111."
      ],
      "metadata": {
        "id": "Isw3jYv59E6u"
      }
    },
    {
      "cell_type": "markdown",
      "source": [
        "###1) Hamiltonian with Drive\n",
        "\n",
        "$H = -\\frac{\\omega_{q1}}{2} \\sigma_1^z -\\frac{\\omega_{q2}}{2}\\sigma_2^z + g(\\sigma_1^+\\sigma_2^- + \\sigma_1^-\\sigma_2^+) + A \\sigma_1^x \\cos(\\omega_{rd}t) $"
      ],
      "metadata": {
        "id": "uVOoh4gxlX6g"
      }
    },
    {
      "cell_type": "code",
      "source": [
        "# constant\n",
        "\n",
        "omega_q1 = 2 * np.pi * 6.5  # qubit frequency in units of GHz\n",
        "omega_q2 = 2 * np.pi * 6  # qubit frequency in units of GHz\n",
        "g = 2 * np.pi * 0.2         # qubit-resonator coupling in units of GHz"
      ],
      "metadata": {
        "id": "mCJZDzjGSRQN"
      },
      "execution_count": 35,
      "outputs": []
    },
    {
      "cell_type": "code",
      "source": [
        "# operator\n",
        "sz1 = sigmaz()\n",
        "sx1 = sigmax()\n",
        "sy1 = sigmay()\n",
        "\n",
        "sp1 = basis(2,1)*basis(2,0).dag()\n",
        "sm1 = basis(2,0)*basis(2,1).dag()\n",
        "\n",
        "sz2 = sigmaz()\n",
        "sx2 = sigmax()\n",
        "sy2 = sigmay()\n",
        "\n",
        "sp2 = basis(2,1)*basis(2,0).dag()\n",
        "sm2 = basis(2,0)*basis(2,1).dag()\n",
        "\n",
        "H0 = -0.5*omega_q1*tensor(sz1, qeye(2)) -0.5*omega_q2*tensor(sz2, qeye(2)) + g*(tensor(sp1, sm2) + tensor(sm1, sp2))"
      ],
      "metadata": {
        "id": "Wffvk_Y9SRNi"
      },
      "execution_count": 36,
      "outputs": []
    },
    {
      "cell_type": "code",
      "source": [
        "sx1_composite = tensor(sx1, qeye(2))\n",
        "sy1_composite = tensor(sy1, qeye(2))\n",
        "sz1_composite = tensor(sz1, qeye(2))\n",
        "sp1_composite = tensor(sp1, qeye(2))\n",
        "sm1_composite = tensor(sm1, qeye(2))\n",
        "\n",
        "sx2_composite = tensor(qeye(2), sx2)\n",
        "sy2_composite = tensor(qeye(2), sy2)\n",
        "sz2_composite = tensor(qeye(2), sz2)\n",
        "sp2_composite = tensor(qeye(2), sp2)\n",
        "sm2_composite = tensor(qeye(2), sm2)\n",
        "\n",
        "op_list1 = [sx1_composite, sy1_composite, sz1_composite, sp1_composite, sm1_composite]\n",
        "op_list2 = [sx2_composite, sy2_composite, sz2_composite, sp2_composite, sm2_composite]\n",
        "\n",
        "psi_20 = tensor(basis(2,0), basis(2,0))\n",
        "psi_2p = tensor((basis(2,0) + basis(2,1))/np.sqrt(2), basis(2,0))\n",
        "psi_21 = tensor(basis(2,1), basis(2,0))\n",
        "\n",
        "tau = 200 # readout pulse length in units of ns\n",
        "tlist = np.linspace(0, 1000, 100000)"
      ],
      "metadata": {
        "id": "7S6Cf0HwSRKr"
      },
      "execution_count": 37,
      "outputs": []
    },
    {
      "cell_type": "code",
      "source": [
        "# time-dependent coefficient for drive\n",
        "def Hrd_env(t, args):\n",
        "    \"\"\"\n",
        "    Envelope function for the readout drive\n",
        "    \"\"\"\n",
        "    A = args['A'] # amplitude of the readout drive\n",
        "    T = args['T'] # duration of the readout drive, in units of ns\n",
        "\n",
        "    return A * (0 <= t) * (t <= T)\n",
        "\n",
        "def Hrd_coeff(t, args):\n",
        "    omega_rd = args['omega_rd']\n",
        "    return Hrd_env(t, args) * np.cos(omega_rd * t)"
      ],
      "metadata": {
        "id": "GBxRh46mBdx2"
      },
      "execution_count": 38,
      "outputs": []
    },
    {
      "cell_type": "code",
      "source": [
        "A_drive = 10 * 2 * np.pi  # drive amplitude in units of GHz\n",
        "omega_rd = 2 * np.pi * 5.92  # qubit frequency in units of GHz\n",
        "\n",
        "result0 = mesolve(\n",
        "    [H0, [sx1_composite, Hrd_coeff]],\n",
        "    psi_20,\n",
        "    tlist,\n",
        "    args = {'A': A_drive, 'T': 800, 'omega_rd': omega_rd},\n",
        "    e_ops = op_list2,\n",
        "    options = Options(nsteps = 1000000, atol = 1e-10, rtol = 1e-8)\n",
        ")"
      ],
      "metadata": {
        "id": "0V6V_rLTD5IW"
      },
      "execution_count": 41,
      "outputs": []
    },
    {
      "cell_type": "code",
      "source": [
        "# Plot X, Y, Z\n",
        "\n",
        "fig, ax = plt.subplots(1, 1)\n",
        "ax.plot(tlist, result0.expect[2])\n",
        "ax.legend(loc = 0)\n",
        "ax.set_xlabel('Time (ns)')\n",
        "ax.set_ylabel('Expectation Value')"
      ],
      "metadata": {
        "colab": {
          "base_uri": "https://localhost:8080/",
          "height": 485
        },
        "id": "rl8qNWT5Iq42",
        "outputId": "2052b99f-0ae2-43f9-fbf4-d4e27a9e134a"
      },
      "execution_count": 42,
      "outputs": [
        {
          "output_type": "stream",
          "name": "stderr",
          "text": [
            "WARNING:matplotlib.legend:No artists with labels found to put in legend.  Note that artists whose label start with an underscore are ignored when legend() is called with no argument.\n"
          ]
        },
        {
          "output_type": "execute_result",
          "data": {
            "text/plain": [
              "Text(0, 0.5, 'Expectation Value')"
            ]
          },
          "metadata": {},
          "execution_count": 42
        },
        {
          "output_type": "display_data",
          "data": {
            "text/plain": [
              "<Figure size 640x480 with 1 Axes>"
            ],
            "image/png": "[encoded data removed]"
          },
          "metadata": {}
        }
      ]
    },
    {
      "cell_type": "code",
      "source": [],
      "metadata": {
        "id": "73XJcQ3VJ9YH"
      },
      "execution_count": 40,
      "outputs": []
    },
    {
      "cell_type": "code",
      "source": [],
      "metadata": {
        "id": "ah84RnFYJ9Sp"
      },
      "execution_count": 40,
      "outputs": []
    }
  ]
}